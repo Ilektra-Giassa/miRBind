{
 "cells": [
  {
   "cell_type": "markdown",
   "metadata": {},
   "source": [
    "I took things out of `training.py` script so I can easily modify them here."
   ]
  },
  {
   "cell_type": "markdown",
   "metadata": {},
   "source": [
    "# Setup"
   ]
  },
  {
   "cell_type": "code",
   "execution_count": 4,
   "metadata": {},
   "outputs": [],
   "source": [
    "import pandas as pd\n",
    "import numpy as np\n",
    "from sklearn.utils import shuffle\n",
    "from sklearn.model_selection import train_test_split\n",
    "import tensorflow as tf\n",
    "from tensorflow import keras as K\n",
    "import matplotlib.pyplot as plt\n",
    "from matplotlib.pyplot import figure\n",
    "from sklearn.metrics import roc_curve, roc_auc_score, auc\n",
    "from sklearn.metrics import precision_recall_curve\n",
    "from tensorflow.keras.layers import (\n",
    "                                BatchNormalization, LeakyReLU,\n",
    "                                Input, Dense, Conv2D,\n",
    "                                MaxPooling2D, Flatten, Dropout)\n",
    "from tensorflow.keras.optimizers import Adam"
   ]
  },
  {
   "cell_type": "markdown",
   "metadata": {},
   "source": [
    "# Data preprocessing"
   ]
  },
  {
   "cell_type": "code",
   "execution_count": 5,
   "metadata": {},
   "outputs": [],
   "source": [
    "def one_hot_encoding(df, tensor_dim=(50, 20, 1)):\n",
    "    \"\"\"\n",
    "    fun transform input database to numpy array.\n",
    "    \n",
    "    parameters:\n",
    "    df = Pandas df with col names \"gene\", \"label\", \"miRNA\"\n",
    "    tensor_dim= 2d matrix shape\n",
    "    \n",
    "    output:\n",
    "    2d dot matrix, labels as np array\n",
    "    \"\"\"\n",
    "    df.reset_index(inplace=True, drop=True)\n",
    "\n",
    "    # alphabet for watson-crick interactions.\n",
    "    alphabet = {\"AT\": 1., \"TA\": 1., \"GC\": 1., \"CG\": 1.}\n",
    "\n",
    "    # labels to one hot encoding\n",
    "    label = df[\"label\"].to_numpy()\n",
    "\n",
    "    # create empty main 2d matrix array\n",
    "    N = df.shape[0]  # number of samples in df\n",
    "    shape_matrix_2d = (N, *tensor_dim)  # 2d matrix shape\n",
    "    # initialize dot matrix with zeros\n",
    "    ohe_matrix_2d = np.zeros(shape_matrix_2d, dtype=\"float32\")\n",
    "\n",
    "    # compile matrix with watson-crick interactions.\n",
    "    for index, row in df.iterrows():\n",
    "        for bind_index, bind_nt in enumerate(row.gene.upper()):\n",
    "\n",
    "            for mirna_index, mirna_nt in enumerate(row.miRNA.upper()):\n",
    "\n",
    "                base_pairs = bind_nt + mirna_nt\n",
    "                ohe_matrix_2d[index, bind_index, mirna_index, 0] = alphabet.get(base_pairs, 0)\n",
    "\n",
    "    return ohe_matrix_2d, label"
   ]
  },
  {
   "cell_type": "code",
   "execution_count": 6,
   "metadata": {},
   "outputs": [],
   "source": [
    "# set random state for reproducibility\n",
    "RANDOM_STATE = 42\n",
    "np.random.seed(RANDOM_STATE)"
   ]
  },
  {
   "cell_type": "code",
   "execution_count": 8,
   "metadata": {},
   "outputs": [
    {
     "data": {
      "text/html": [
       "<div>\n",
       "<style scoped>\n",
       "    .dataframe tbody tr th:only-of-type {\n",
       "        vertical-align: middle;\n",
       "    }\n",
       "\n",
       "    .dataframe tbody tr th {\n",
       "        vertical-align: top;\n",
       "    }\n",
       "\n",
       "    .dataframe thead th {\n",
       "        text-align: right;\n",
       "    }\n",
       "</style>\n",
       "<table border=\"1\" class=\"dataframe\">\n",
       "  <thead>\n",
       "    <tr style=\"text-align: right;\">\n",
       "      <th></th>\n",
       "      <th>miRNA</th>\n",
       "      <th>gene</th>\n",
       "      <th>label</th>\n",
       "    </tr>\n",
       "  </thead>\n",
       "  <tbody>\n",
       "    <tr>\n",
       "      <th>15287</th>\n",
       "      <td>TCTGGCTCCGTGTCTTCACT</td>\n",
       "      <td>GGTGAGGGAGACGGAGGCCGTCATCCACAAGCACCGCTCGGCCACC...</td>\n",
       "      <td>1</td>\n",
       "    </tr>\n",
       "    <tr>\n",
       "      <th>27358</th>\n",
       "      <td>TGAGGTAGTAGTTTGTGCTG</td>\n",
       "      <td>GGACAGGCACAGAGACTTGGAAGAGAGAAATAGACGCTCTAGTGGG...</td>\n",
       "      <td>0</td>\n",
       "    </tr>\n",
       "    <tr>\n",
       "      <th>9838</th>\n",
       "      <td>TACCCTGTAGATCCGAATTT</td>\n",
       "      <td>ACTTCTTGGACTACATGGGGATCAAAGGCCCCAGGATGCCTCTGGG...</td>\n",
       "      <td>1</td>\n",
       "    </tr>\n",
       "    <tr>\n",
       "      <th>896</th>\n",
       "      <td>CGTCAACACTTGCTGGTTTC</td>\n",
       "      <td>GTGTCTCAAAGCAAAGGAAACCTCCACAAGTGCTGCAACAGTGCAT...</td>\n",
       "      <td>1</td>\n",
       "    </tr>\n",
       "    <tr>\n",
       "      <th>19287</th>\n",
       "      <td>TTCACCACCTTCTCCACCCA</td>\n",
       "      <td>CTTTGACACTACACAATTTTCTAATATGTGTTAATGCTATGTGACA...</td>\n",
       "      <td>0</td>\n",
       "    </tr>\n",
       "  </tbody>\n",
       "</table>\n",
       "</div>"
      ],
      "text/plain": [
       "                      miRNA  \\\n",
       "15287  TCTGGCTCCGTGTCTTCACT   \n",
       "27358  TGAGGTAGTAGTTTGTGCTG   \n",
       "9838   TACCCTGTAGATCCGAATTT   \n",
       "896    CGTCAACACTTGCTGGTTTC   \n",
       "19287  TTCACCACCTTCTCCACCCA   \n",
       "\n",
       "                                                    gene  label  \n",
       "15287  GGTGAGGGAGACGGAGGCCGTCATCCACAAGCACCGCTCGGCCACC...      1  \n",
       "27358  GGACAGGCACAGAGACTTGGAAGAGAGAAATAGACGCTCTAGTGGG...      0  \n",
       "9838   ACTTCTTGGACTACATGGGGATCAAAGGCCCCAGGATGCCTCTGGG...      1  \n",
       "896    GTGTCTCAAAGCAAAGGAAACCTCCACAAGTGCTGCAACAGTGCAT...      1  \n",
       "19287  CTTTGACACTACACAATTTTCTAATATGTGTTAATGCTATGTGACA...      0  "
      ]
     },
     "execution_count": 8,
     "metadata": {},
     "output_type": "execute_result"
    }
   ],
   "source": [
    "TRAINING_RATIO = 1\n",
    "train_df = pd.read_csv(\"../Datasets/train_set_1_\" + str(TRAINING_RATIO) + \"_CLASH2013_paper.tsv\", sep='\\t')\n",
    "train_df = train_df.sample(frac=1, random_state=RANDOM_STATE)\n",
    "train_df.head()"
   ]
  },
  {
   "cell_type": "code",
   "execution_count": 9,
   "metadata": {},
   "outputs": [
    {
     "name": "stdout",
     "output_type": "stream",
     "text": [
      "Number of training samples:  30784\n"
     ]
    }
   ],
   "source": [
    "ohe_data = one_hot_encoding(train_df)\n",
    "train_ohe, labels = ohe_data\n",
    "print(\"Number of training samples: \", train_df.shape[0])"
   ]
  },
  {
   "cell_type": "markdown",
   "metadata": {},
   "source": [
    "# Model + Keras Tuner setup\n",
    "\n",
    "Following this tutorial https://blog.tensorflow.org/2020/01/hyperparameter-tuning-with-keras-tuner.html to setup hyperparameter tuning."
   ]
  },
  {
   "cell_type": "code",
   "execution_count": 14,
   "metadata": {},
   "outputs": [],
   "source": [
    "def make_architecture(hp):\n",
    "    \"\"\"\n",
    "    build model architecture\n",
    "\n",
    "    return a model object\n",
    "    \"\"\"\n",
    "    main_input = Input(shape=(50, 20, 1),\n",
    "                       dtype='float32', name='main_input'\n",
    "                       )\n",
    "\n",
    "    cnn_num = hp.Int('conv_blocks', 2, 6, default=3)\n",
    "    dropout_rate = hp.Float('dropout', 0, 0.6, step=0.1, default=0.25)\n",
    "    # max the same number of dense layers as is the number of cnn layers\n",
    "    dense_num = hp.Int('dense_blocks', 2, cnn_num, default=3)\n",
    "\n",
    "\n",
    "    for cnn_i in range(cnn_num):\n",
    "\n",
    "        x = Conv2D(\n",
    "            # we increase number of filters by 32 in each layer\n",
    "            filters=32*(cnn_i + 1),\n",
    "            kernel_size=(3, 3),\n",
    "            padding=\"same\",\n",
    "            data_format=\"channels_last\",\n",
    "            name=\"conv_\" + str(cnn_i + 1))(main_input)\n",
    "        x = LeakyReLU()(x)\n",
    "        x = BatchNormalization()(x)\n",
    "        x = MaxPooling2D(pool_size=(2, 2), name='Max_' + str(cnn_i + 1))(x)\n",
    "        x = Dropout(rate=dropout_rate)(x)\n",
    "\n",
    "    conv_flat = Flatten(name='2d_matrix')(x)\n",
    "\n",
    "    for dense_i in range(dense_num):\n",
    "\n",
    "        neurons = 32 * (cnn_num - dense_i)\n",
    "        x = Dense(neurons)(conv_flat)\n",
    "        x = LeakyReLU()(x)\n",
    "        x = BatchNormalization()(x)\n",
    "        x = Dropout(rate=dropout_rate)(x)\n",
    "\n",
    "    main_output = Dense(1, activation='sigmoid', name='main_output')(x)\n",
    "\n",
    "    m = K.Model(inputs=[main_input], outputs=[main_output], name='arch_00')\n",
    "\n",
    "    return m"
   ]
  },
  {
   "cell_type": "code",
   "execution_count": 15,
   "metadata": {},
   "outputs": [],
   "source": [
    "def compile_model(hp):\n",
    "    K.backend.clear_session()\n",
    "    m = make_architecture(hp)\n",
    "\n",
    "    opt = Adam(\n",
    "        learning_rate=hp.Float('learning_rate', 1e-4, 1e-2, sampling='log'),\n",
    "        beta_1=0.9,\n",
    "        beta_2=0.999,\n",
    "        epsilon=1e-07,\n",
    "        amsgrad=False,\n",
    "        name=\"Adam\")\n",
    "\n",
    "    m.compile(\n",
    "        optimizer=opt,\n",
    "        loss='binary_crossentropy',\n",
    "        metrics=['accuracy']\n",
    "        )\n",
    "    return m"
   ]
  },
  {
   "cell_type": "code",
   "execution_count": 16,
   "metadata": {},
   "outputs": [],
   "source": [
    "import kerastuner as kt\n",
    "\n",
    "tuner = kt.Hyperband(\n",
    "    compile_model,\n",
    "    objective='val_accuracy',\n",
    "    max_epochs=30,\n",
    "    hyperband_iterations=2)"
   ]
  },
  {
   "cell_type": "code",
   "execution_count": null,
   "metadata": {},
   "outputs": [],
   "source": [
    "tuner.search(train_ohe, labels,\n",
    "             validation_split=0.05,\n",
    "             epochs=10,\n",
    "             callbacks=[tf.keras.callbacks.EarlyStopping(patience=1)])"
   ]
  }
 ],
 "metadata": {
  "interpreter": {
   "hash": "dc8fa1878b8b3108891aa0a714ae13672a5fe7404eec961f879aba1551dafbcb"
  },
  "kernelspec": {
   "display_name": "Python 3.9.7 ('venv': venv)",
   "language": "python",
   "name": "python3"
  },
  "language_info": {
   "codemirror_mode": {
    "name": "ipython",
    "version": 3
   },
   "file_extension": ".py",
   "mimetype": "text/x-python",
   "name": "python",
   "nbconvert_exporter": "python",
   "pygments_lexer": "ipython3",
   "version": "3.9.7"
  },
  "orig_nbformat": 4
 },
 "nbformat": 4,
 "nbformat_minor": 2
}
